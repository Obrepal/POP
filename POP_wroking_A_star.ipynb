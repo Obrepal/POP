{
  "nbformat": 4,
  "nbformat_minor": 0,
  "metadata": {
    "colab": {
      "name": "POP",
      "provenance": [],
      "collapsed_sections": [],
      "include_colab_link": true
    },
    "kernelspec": {
      "name": "python3",
      "display_name": "Python 3"
    },
    "language_info": {
      "name": "python"
    }
  },
  "cells": [
    {
      "cell_type": "markdown",
      "metadata": {
        "id": "view-in-github",
        "colab_type": "text"
      },
      "source": [
        "<a href=\"https://colab.research.google.com/github/Obrepal/POP/blob/master/POP_wroking_A_star.ipynb\" target=\"_parent\"><img src=\"https://colab.research.google.com/assets/colab-badge.svg\" alt=\"Open In Colab\"/></a>"
      ]
    },
    {
      "cell_type": "markdown",
      "source": [
        "https://networkx.guide/algorithms/shortest-path/a-star-search/\n",
        "https://www.python-graph-gallery.com/322-network-layout-possibilities\n",
        "\n",
        "https://docs.google.com/drawings/d/1XCCMoto-npLf0uLhvlZrJI9H02t64jWRM-feeSu_YJc/edit\n",
        "\n",
        "https://networkx.org/documentation/stable/tutorial.html\n"
      ],
      "metadata": {
        "id": "pjFwoID2WMEi"
      }
    },
    {
      "cell_type": "markdown",
      "source": [
        ""
      ],
      "metadata": {
        "id": "_nYcb5AEh27_"
      }
    },
    {
      "cell_type": "markdown",
      "source": [
        "https://ewarchul.github.io/teaching/pop.html\n",
        "\n",
        "**Tutaj podam linki do repozytoriów, które mają podobną tematykę co my.**\n",
        "\n",
        "https://github.com/waldemar99zielinski/USS-Enterprise/blob/master/main.py ten sam tytuł, ale kompletnie coś innego\n",
        "\n",
        "https://github.com/swierczj/alhe-algorytm-mrowkowy to jest bardzo sensowne z naszego punktu widzenia\n",
        "\n",
        "https://www.youtube.com/watch?v=X-iSQQgOd1A algorytm mrówkowy\n",
        "\n",
        "\n",
        "\n",
        "\n",
        "\n"
      ],
      "metadata": {
        "id": "YjmVq7XFQSMn"
      }
    },
    {
      "cell_type": "markdown",
      "source": [
        "**Co musimy zrobić?**\n",
        "\n",
        "\n",
        "1.   Wczytywanie pliku, jest w githubie, ewentualnie tak jak tutaj\n",
        "2.   Implementacja a-gwiazdki\n",
        "\n",
        "*   Metaheurystyka\n",
        "*   testy\n",
        "3.   Implementacja mrówki\n",
        "\n",
        "*   Metaheurystyka\n",
        "*   testy\n",
        "\n",
        "4.   Sprawko \n",
        "\n",
        "\n",
        "5. Prezentacja najpóźniej 02.02.2022\n",
        "\n",
        "# 6. **Dokumentacja końcowa \tMail z kodem, raportem i danymi \t25.01.2022 23:59**\n",
        "\n",
        "\n",
        "#. **Lista pytań**\n",
        "\n",
        "Czy da się zrobić bez dystansu?\n",
        "\n",
        "Zaproponowana heurystyka czy jest sensowna?\n",
        "\n",
        "Finding the Shortest Path with A* in An UnknownPhysical Environment\n",
        "\n",
        "\n",
        "\n",
        "\n"
      ],
      "metadata": {
        "id": "oznuUckEQtEX"
      }
    },
    {
      "cell_type": "code",
      "source": [
        "G[2][0]['weight'] = 5 \n",
        "\n",
        "G[0][0]['weight']"
      ],
      "metadata": {
        "id": "fK_FJKl5eBU3",
        "colab": {
          "base_uri": "https://localhost:8080/",
          "height": 208
        },
        "outputId": "0b1a6762-f895-4d8f-b206-d5a721db45c1"
      },
      "execution_count": null,
      "outputs": [
        {
          "output_type": "error",
          "ename": "NameError",
          "evalue": "ignored",
          "traceback": [
            "\u001b[0;31m---------------------------------------------------------------------------\u001b[0m",
            "\u001b[0;31mNameError\u001b[0m                                 Traceback (most recent call last)",
            "\u001b[0;32m<ipython-input-2-b9e1b7890156>\u001b[0m in \u001b[0;36m<module>\u001b[0;34m()\u001b[0m\n\u001b[0;32m----> 1\u001b[0;31m \u001b[0mG\u001b[0m\u001b[0;34m[\u001b[0m\u001b[0;36m2\u001b[0m\u001b[0;34m]\u001b[0m\u001b[0;34m[\u001b[0m\u001b[0;36m0\u001b[0m\u001b[0;34m]\u001b[0m\u001b[0;34m[\u001b[0m\u001b[0;34m'weight'\u001b[0m\u001b[0;34m]\u001b[0m \u001b[0;34m=\u001b[0m \u001b[0;36m5\u001b[0m\u001b[0;34m\u001b[0m\u001b[0;34m\u001b[0m\u001b[0m\n\u001b[0m\u001b[1;32m      2\u001b[0m \u001b[0;34m\u001b[0m\u001b[0m\n\u001b[1;32m      3\u001b[0m \u001b[0mG\u001b[0m\u001b[0;34m[\u001b[0m\u001b[0;36m0\u001b[0m\u001b[0;34m]\u001b[0m\u001b[0;34m[\u001b[0m\u001b[0;36m0\u001b[0m\u001b[0;34m]\u001b[0m\u001b[0;34m[\u001b[0m\u001b[0;34m'weight'\u001b[0m\u001b[0;34m]\u001b[0m\u001b[0;34m\u001b[0m\u001b[0;34m\u001b[0m\u001b[0m\n",
            "\u001b[0;31mNameError\u001b[0m: name 'G' is not defined"
          ]
        }
      ]
    },
    {
      "cell_type": "code",
      "source": [
        "G[1][0]['weight'] = 10 \n",
        "#skąd dokąd edge\n"
      ],
      "metadata": {
        "colab": {
          "base_uri": "https://localhost:8080/",
          "height": 190
        },
        "id": "U3tceVYMeIZf",
        "outputId": "dfacc82d-4fb4-4426-b2df-f0c2658ce167"
      },
      "execution_count": null,
      "outputs": [
        {
          "output_type": "error",
          "ename": "NameError",
          "evalue": "ignored",
          "traceback": [
            "\u001b[0;31m---------------------------------------------------------------------------\u001b[0m",
            "\u001b[0;31mNameError\u001b[0m                                 Traceback (most recent call last)",
            "\u001b[0;32m<ipython-input-3-af1eeb92ad2f>\u001b[0m in \u001b[0;36m<module>\u001b[0;34m()\u001b[0m\n\u001b[0;32m----> 1\u001b[0;31m \u001b[0mG\u001b[0m\u001b[0;34m[\u001b[0m\u001b[0;36m1\u001b[0m\u001b[0;34m]\u001b[0m\u001b[0;34m[\u001b[0m\u001b[0;36m0\u001b[0m\u001b[0;34m]\u001b[0m\u001b[0;34m[\u001b[0m\u001b[0;34m'weight'\u001b[0m\u001b[0;34m]\u001b[0m \u001b[0;34m=\u001b[0m \u001b[0;36m10\u001b[0m\u001b[0;34m\u001b[0m\u001b[0;34m\u001b[0m\u001b[0m\n\u001b[0m\u001b[1;32m      2\u001b[0m \u001b[0;31m#skąd dokąd edge\u001b[0m\u001b[0;34m\u001b[0m\u001b[0;34m\u001b[0m\u001b[0;34m\u001b[0m\u001b[0m\n",
            "\u001b[0;31mNameError\u001b[0m: name 'G' is not defined"
          ]
        }
      ]
    },
    {
      "cell_type": "code",
      "source": [
        "list(G.neighbors(2))\n",
        "G.nodes[1]['visited'] #node"
      ],
      "metadata": {
        "id": "PIXl2pHpcIQr",
        "colab": {
          "base_uri": "https://localhost:8080/",
          "height": 190
        },
        "outputId": "4c6c0e56-cbe3-47be-d997-53e5c342f3e1"
      },
      "execution_count": null,
      "outputs": [
        {
          "output_type": "error",
          "ename": "NameError",
          "evalue": "ignored",
          "traceback": [
            "\u001b[0;31m---------------------------------------------------------------------------\u001b[0m",
            "\u001b[0;31mNameError\u001b[0m                                 Traceback (most recent call last)",
            "\u001b[0;32m<ipython-input-4-9b5452cb9243>\u001b[0m in \u001b[0;36m<module>\u001b[0;34m()\u001b[0m\n\u001b[0;32m----> 1\u001b[0;31m \u001b[0mlist\u001b[0m\u001b[0;34m(\u001b[0m\u001b[0mG\u001b[0m\u001b[0;34m.\u001b[0m\u001b[0mneighbors\u001b[0m\u001b[0;34m(\u001b[0m\u001b[0;36m2\u001b[0m\u001b[0;34m)\u001b[0m\u001b[0;34m)\u001b[0m\u001b[0;34m\u001b[0m\u001b[0;34m\u001b[0m\u001b[0m\n\u001b[0m\u001b[1;32m      2\u001b[0m \u001b[0mG\u001b[0m\u001b[0;34m.\u001b[0m\u001b[0mnodes\u001b[0m\u001b[0;34m[\u001b[0m\u001b[0;36m1\u001b[0m\u001b[0;34m]\u001b[0m\u001b[0;34m[\u001b[0m\u001b[0;34m'visited'\u001b[0m\u001b[0;34m]\u001b[0m \u001b[0;31m#node\u001b[0m\u001b[0;34m\u001b[0m\u001b[0;34m\u001b[0m\u001b[0m\n",
            "\u001b[0;31mNameError\u001b[0m: name 'G' is not defined"
          ]
        }
      ]
    },
    {
      "cell_type": "code",
      "source": [
        "import networkx as nx\n",
        "import pandas as pd\n",
        "import matplotlib.pyplot as plt\n",
        "\n",
        "\n",
        "edges = pd.DataFrame({'source' : [2, 4, 5, 3, 0, 2, 5, 4, 7, 3, 6, 4],\n",
        "                      'target' : [1, 7, 3, 5, 5, 0, 6, 2, 8, 8, 7, 7],\n",
        "                      'weight' : [2, 2, 3, 2, 5, 3, 2, 6, 7, 3, 3, 2]})\n",
        "\n",
        "nodes = pd.DataFrame({'node' : [0, 1, 2, 3, 4, 5, 6, 7, 8, 9],\n",
        "                      'name' : ['Foo', 'Bar', 'Baz','Foo', 'Bar', 'Baz','Foo', 'Bar', 'Baz','ee'],\n",
        "                      'visited' : [0, 0, 0, 0, 0, 0, 0, 0, 0,0],\n",
        "                      'spice' : [0,17,18,19,16,15,16,17,18,19]\n",
        "                      })\n",
        "\n",
        "\n",
        "G = nx.Graph()\n",
        "\n",
        "G = nx.from_pandas_edgelist(edges, 'source', 'target', 'weight')\n",
        "\n",
        "nx.set_node_attributes(G, pd.Series(nodes.visited, index=nodes.node).to_dict(), 'visited')\n",
        "nx.set_node_attributes(G, pd.Series(nodes.name, index=nodes.node).to_dict(), 'name')\n",
        "nx.set_node_attributes(G, pd.Series(nodes.spice, index=nodes.node).to_dict(), 'spice')\n",
        "\n",
        "\n",
        "labels = nx.get_edge_attributes(G,\"weight\")\n",
        "#pos = nx.spring_layout(G,k=1, iterations=4)\n",
        "pos=nx.fruchterman_reingold_layout(G)\n",
        "node_labels = nx.get_node_attributes(G,'spice')\n",
        "#nx.draw_networkx_labels(G, pos,labels = node_labels)\n",
        "nx.draw_networkx_edge_labels(G,pos,edge_labels=labels)\n",
        "nx.draw(G,pos, with_labels=True,font_color='black',node_color='red',node_size=500)\n",
        "plt.show()\n"
      ],
      "metadata": {
        "id": "1voifdtC3XE3",
        "colab": {
          "base_uri": "https://localhost:8080/",
          "height": 248
        },
        "outputId": "17b112ad-1809-480d-e533-0e5165a98825"
      },
      "execution_count": 356,
      "outputs": [
        {
          "output_type": "display_data",
          "data": {
            "image/png": "[encoded data removed]",
            "text/plain": [
              "<Figure size 432x288 with 1 Axes>"
            ]
          },
          "metadata": {}
        }
      ]
    },
    {
      "cell_type": "markdown",
      "source": [
        "Pamiętaj o odwiedzonych. To na plus do odwiedzonych. \n",
        "Węzły zyskany, krawędzie spalone i parzymy do uzyskania. \n",
        "F ile już spaliśimy + ile brakuje \n",
        "\n",
        "\n",
        "Koszt spalony ile nam brakuje dalej \n",
        "\n",
        "Początkowy dueter \n",
        "\n",
        "O nie jest zero\n",
        "\n",
        "10 uzyskać \n",
        "4 > 2  = 9 \n",
        "4 > 6 = 7 \n",
        "\n",
        "\n",
        "/Krzysiek\n",
        "funkcja celu - zdobyty/zuzyty\n",
        "\n",
        "Zerujemy  na węźle deuter po odwiedzeniu\n",
        "\n",
        "\n",
        "Networkx \n"
      ],
      "metadata": {
        "id": "IRvfGZAmoQ_j"
      }
    },
    {
      "cell_type": "code",
      "source": [
        "goal_function(G, 0, 2,10)"
      ],
      "metadata": {
        "id": "LImXa2AjeF4p"
      },
      "execution_count": null,
      "outputs": []
    },
    {
      "cell_type": "code",
      "source": [
        "class Path(object):\n",
        "\n",
        "    def  __init__(self, road = [], last_node = 0, goal_function = 0 ,fuel_end = 0):\n",
        "        \n",
        "      self.road = road\n",
        "      self.goal_function = goal_function\n",
        "      self.fuel_end = fuel_end\n",
        "      self.last_node = last_node\n",
        "\n",
        "    def append_road(self,next_node):\n",
        "      self.road.append(next_node)\n",
        "\n",
        "    def get_road(self):\n",
        "      return self.road\n",
        "\n",
        "    def get_goal_function(self):\n",
        "      return self.goal_function\n",
        "\n",
        "    def get_fuel_end(self):\n",
        "      return self.fuel_end\n",
        "    \n",
        "    def get_last_node(self):\n",
        "      return self.road[-1]\n",
        "\n",
        "    def set_goal_function(self, new_goal_function):\n",
        "      self.goal_function = new_goal_function\n",
        "\n",
        "    def set_fuel_end(self, new_fuel_end):\n",
        "      self.fuel_end = new_fuel_end\n",
        "    \n",
        "    \n",
        "  \n",
        "\n",
        "     \n",
        "\n",
        "\n"
      ],
      "metadata": {
        "id": "yyrrxhHcCxgH"
      },
      "execution_count": null,
      "outputs": []
    },
    {
      "cell_type": "code",
      "source": [
        "class Great_storer(object):\n",
        "  def __init__(self, G, current_roads = []):\n",
        "    self.current_roads = current_roads\n",
        "    self.G = G\n",
        "  \n",
        "  def add_new_road(self, path):\n",
        "    self.current_roads.append(path) \n",
        "  \n",
        "  def get_current_roads(self):\n",
        "    return self.current_roads\n",
        "\n",
        "  def createPath(self, oldPath, newNode):\n",
        "\n",
        "    fuel = oldPath.get_fuel_end() + self.G[oldPath.get_last_node()][newNode]['weight']\n",
        "    if newNode not in oldPath.get_road():\n",
        "      # print(\"CHECKE\",oldPath.get_road(), newNode)\n",
        "      fuel -= self.G.nodes[newNode]['spice']\n",
        "      \n",
        "      \n",
        "    goal_function  = oldPath.get_goal_function() - self.G.nodes[newNode]['spice']  - 2* (self.G[oldPath.get_last_node()][newNode]['weight'])\n",
        "    \n",
        "    Road = oldPath.get_road() + [newNode]\n",
        "    newPath = Path(Road, newNode, goal_function, fuel) # na zmęczeniu poprawiłem na [] oraz dodałem linikję pod\n",
        "    # newPath.append_road(newNode)\n",
        "    self.current_roads.append(newPath)\n",
        "\n",
        "  def find_lowest_goal_function(self):\n",
        "    self.current_roads.sort(key=lambda x: x.get_goal_function(), reverse=True)\n",
        "    #curr.sort(key=lambda x: x.get_goal_function(), reverse=True)\n",
        "    return self.current_roads.pop(0)\n",
        "\n",
        "  def sort_roads(self):\n",
        "         self.current_roads.sort(key=lambda x: x.get_goal_function(), reverse=True)\n",
        "        #curr.sort(key=lambda x: x.get_goal_function(), reverse=True)\n",
        "\n",
        "\n",
        " "
      ],
      "metadata": {
        "id": "J1EBKKBXDaEv"
      },
      "execution_count": 360,
      "outputs": []
    },
    {
      "cell_type": "code",
      "source": [
        "#inicjalizacja\n",
        "path = Path( [0], 0,  40, 20)\n",
        "#dodajemy pierwszy, do strera\n",
        "great_storer = Great_storer(G,[path])\n",
        "#wyznaczamy sąsiadów\n",
        "G.neighbors(curr_path.get_last_node())\n",
        "\n",
        "for i in range(0,60):\n",
        "  #oblicamy obecny najniższy \n",
        "    curr_path = copy.copy(great_storer.find_lowest_goal_function())\n",
        "\n",
        "    for i in G.neighbors(curr_path.get_last_node()):\n",
        "      great_storer.createPath(curr_path,i)\n",
        "      if i == 0 and great_storer.get_current_roads()[-1].get_fuel_end() <= 0:\n",
        "        print(i,great_storer.get_current_roads()[-1].get_fuel_end(),great_storer.get_current_roads()[-1].get_road())\n",
        "        break\n",
        "      \n",
        "    \n",
        "\n",
        "# for n in great_storer.get_current_roads():\n",
        "#   print(n.get_road(),n.get_fuel_end())\n",
        "\n"
      ],
      "metadata": {
        "colab": {
          "base_uri": "https://localhost:8080/"
        },
        "id": "DuWlaeLTjRX2",
        "outputId": "e28ce892-d489-49a8-bfba-5664c04a412d"
      },
      "execution_count": 368,
      "outputs": [
        {
          "output_type": "stream",
          "name": "stdout",
          "text": [
            "0 -5 [0, 2, 1, 2, 0]\n",
            "0 0 [0, 5, 3, 5, 0]\n",
            "0 -9 [0, 2, 0, 5, 6, 5, 0]\n"
          ]
        }
      ]
    },
    {
      "cell_type": "code",
      "source": [
        "curr_path.get_goal_function()"
      ],
      "metadata": {
        "id": "1DZL5AbBq6uR"
      },
      "execution_count": null,
      "outputs": []
    },
    {
      "cell_type": "code",
      "source": [
        "for n in great_storer.get_current_roads():\n",
        "    print(n.get_road())\n"
      ],
      "metadata": {
        "id": "n2Rfmy6mqRk8"
      },
      "execution_count": null,
      "outputs": []
    },
    {
      "cell_type": "code",
      "source": [
        "for k in range(0,1):\n",
        "\n",
        "  curr_path = copy.copy(great_storer.find_lowest_goal_function())\n",
        "  print(list(G.neighbors(curr_path.get_last_node())))\n",
        "\n",
        "  # for i in G.neighbors(curr_path.get_last_node()):\n",
        "  #     great_storer.createPath(curr_path, i)\n",
        "\n",
        "  for n in great_storer.get_current_roads():\n",
        "    print(n.get_road())\n"
      ],
      "metadata": {
        "colab": {
          "base_uri": "https://localhost:8080/",
          "height": 374
        },
        "id": "0_z50chuoM-I",
        "outputId": "c162520c-74c5-4185-8ae1-ccead81f7ea9"
      },
      "execution_count": 279,
      "outputs": [
        {
          "output_type": "error",
          "ename": "IndexError",
          "evalue": "ignored",
          "traceback": [
            "\u001b[0;31m---------------------------------------------------------------------------\u001b[0m",
            "\u001b[0;31mIndexError\u001b[0m                                Traceback (most recent call last)",
            "\u001b[0;32m<ipython-input-279-4af92411d522>\u001b[0m in \u001b[0;36m<module>\u001b[0;34m()\u001b[0m\n\u001b[1;32m      1\u001b[0m \u001b[0;32mfor\u001b[0m \u001b[0mk\u001b[0m \u001b[0;32min\u001b[0m \u001b[0mrange\u001b[0m\u001b[0;34m(\u001b[0m\u001b[0;36m0\u001b[0m\u001b[0;34m,\u001b[0m\u001b[0;36m1\u001b[0m\u001b[0;34m)\u001b[0m\u001b[0;34m:\u001b[0m\u001b[0;34m\u001b[0m\u001b[0;34m\u001b[0m\u001b[0m\n\u001b[1;32m      2\u001b[0m \u001b[0;34m\u001b[0m\u001b[0m\n\u001b[0;32m----> 3\u001b[0;31m   \u001b[0mcurr_path\u001b[0m \u001b[0;34m=\u001b[0m \u001b[0mcopy\u001b[0m\u001b[0;34m.\u001b[0m\u001b[0mcopy\u001b[0m\u001b[0;34m(\u001b[0m\u001b[0mgreat_storer\u001b[0m\u001b[0;34m.\u001b[0m\u001b[0mfind_lowest_goal_function\u001b[0m\u001b[0;34m(\u001b[0m\u001b[0;34m)\u001b[0m\u001b[0;34m)\u001b[0m\u001b[0;34m\u001b[0m\u001b[0;34m\u001b[0m\u001b[0m\n\u001b[0m\u001b[1;32m      4\u001b[0m   \u001b[0mprint\u001b[0m\u001b[0;34m(\u001b[0m\u001b[0mlist\u001b[0m\u001b[0;34m(\u001b[0m\u001b[0mG\u001b[0m\u001b[0;34m.\u001b[0m\u001b[0mneighbors\u001b[0m\u001b[0;34m(\u001b[0m\u001b[0mcurr_path\u001b[0m\u001b[0;34m.\u001b[0m\u001b[0mget_last_node\u001b[0m\u001b[0;34m(\u001b[0m\u001b[0;34m)\u001b[0m\u001b[0;34m)\u001b[0m\u001b[0;34m)\u001b[0m\u001b[0;34m)\u001b[0m\u001b[0;34m\u001b[0m\u001b[0;34m\u001b[0m\u001b[0m\n\u001b[1;32m      5\u001b[0m \u001b[0;34m\u001b[0m\u001b[0m\n",
            "\u001b[0;32m<ipython-input-255-ff14c1cad008>\u001b[0m in \u001b[0;36mfind_lowest_goal_function\u001b[0;34m(self)\u001b[0m\n\u001b[1;32m     23\u001b[0m     \u001b[0mself\u001b[0m\u001b[0;34m.\u001b[0m\u001b[0mcurrent_roads\u001b[0m\u001b[0;34m.\u001b[0m\u001b[0msort\u001b[0m\u001b[0;34m(\u001b[0m\u001b[0mkey\u001b[0m\u001b[0;34m=\u001b[0m\u001b[0;32mlambda\u001b[0m \u001b[0mx\u001b[0m\u001b[0;34m:\u001b[0m \u001b[0mx\u001b[0m\u001b[0;34m.\u001b[0m\u001b[0mget_goal_function\u001b[0m\u001b[0;34m(\u001b[0m\u001b[0;34m)\u001b[0m\u001b[0;34m,\u001b[0m \u001b[0mreverse\u001b[0m\u001b[0;34m=\u001b[0m\u001b[0;32mTrue\u001b[0m\u001b[0;34m)\u001b[0m\u001b[0;34m\u001b[0m\u001b[0;34m\u001b[0m\u001b[0m\n\u001b[1;32m     24\u001b[0m     \u001b[0;31m#curr.sort(key=lambda x: x.get_goal_function(), reverse=True)\u001b[0m\u001b[0;34m\u001b[0m\u001b[0;34m\u001b[0m\u001b[0;34m\u001b[0m\u001b[0m\n\u001b[0;32m---> 25\u001b[0;31m     \u001b[0;32mreturn\u001b[0m \u001b[0mself\u001b[0m\u001b[0;34m.\u001b[0m\u001b[0mcurrent_roads\u001b[0m\u001b[0;34m.\u001b[0m\u001b[0mpop\u001b[0m\u001b[0;34m(\u001b[0m\u001b[0;36m0\u001b[0m\u001b[0;34m)\u001b[0m\u001b[0;34m\u001b[0m\u001b[0;34m\u001b[0m\u001b[0m\n\u001b[0m\u001b[1;32m     26\u001b[0m \u001b[0;34m\u001b[0m\u001b[0m\n\u001b[1;32m     27\u001b[0m   \u001b[0;32mdef\u001b[0m \u001b[0msort_roads\u001b[0m\u001b[0;34m(\u001b[0m\u001b[0mself\u001b[0m\u001b[0;34m)\u001b[0m\u001b[0;34m:\u001b[0m\u001b[0;34m\u001b[0m\u001b[0;34m\u001b[0m\u001b[0m\n",
            "\u001b[0;31mIndexError\u001b[0m: pop from empty list"
          ]
        }
      ]
    },
    {
      "cell_type": "markdown",
      "source": [
        ""
      ],
      "metadata": {
        "id": "k4o6obBTjTmR"
      }
    },
    {
      "cell_type": "markdown",
      "source": [
        "Tu testowe\n"
      ],
      "metadata": {
        "id": "nArWW8nojOni"
      }
    },
    {
      "cell_type": "code",
      "source": [
        "from operator import attrgetter\n",
        "path = Path( [0], 0,  60, 60)\n",
        "great_storer = Great_storer(G,[path])\n",
        "great_storer.createPath(path, 2)\n",
        "# list(G.neighbors(great_storer.get_current_roads()[0].get_last_node()))"
      ],
      "metadata": {
        "id": "VhYqG9uPlFlN"
      },
      "execution_count": 252,
      "outputs": []
    },
    {
      "cell_type": "code",
      "source": [
        "curr = great_storer.get_current_roads()"
      ],
      "metadata": {
        "id": "tjJ1iZAqqKGy"
      },
      "execution_count": 250,
      "outputs": []
    },
    {
      "cell_type": "code",
      "source": [
        "curr.sort(key=lambda x: x.get_goal_function(), reverse=True)"
      ],
      "metadata": {
        "id": "68m9onhFKqEz"
      },
      "execution_count": 222,
      "outputs": []
    },
    {
      "cell_type": "code",
      "source": [
        "great_storer.find_lowest_goal_function()"
      ],
      "metadata": {
        "colab": {
          "base_uri": "https://localhost:8080/"
        },
        "id": "12NLgVIHLK-k",
        "outputId": "e121699c-30c1-4af3-f9f5-f0e3670e379b"
      },
      "execution_count": 251,
      "outputs": [
        {
          "output_type": "execute_result",
          "data": {
            "text/plain": [
              "<__main__.Path at 0x7f974e2f0090>"
            ]
          },
          "metadata": {},
          "execution_count": 251
        }
      ]
    },
    {
      "cell_type": "markdown",
      "source": [
        ""
      ],
      "metadata": {
        "id": "qp1FX96DpEph"
      }
    },
    {
      "cell_type": "code",
      "source": [
        "for i in curr:\n",
        "  print(i.get_road(),i.get_goal_function())"
      ],
      "metadata": {
        "colab": {
          "base_uri": "https://localhost:8080/"
        },
        "id": "UJ10WobppE0a",
        "outputId": "14175290-d8d3-4276-c081-5fdc6eaee8a1"
      },
      "execution_count": 253,
      "outputs": [
        {
          "output_type": "stream",
          "name": "stdout",
          "text": [
            "[0] 60\n"
          ]
        }
      ]
    },
    {
      "cell_type": "code",
      "source": [
        "import copy\n",
        "\n",
        "curr_node = copy.deepcopy(great_storer.find_lowest_goal_function())\n",
        "for i in G.neighbors(curr_node.get_last_node()):\n",
        "   great_storer.createPath(curr_node, i)\n"
      ],
      "metadata": {
        "id": "BXXAHWYflXSh"
      },
      "execution_count": 239,
      "outputs": []
    },
    {
      "cell_type": "code",
      "source": [
        "list(G.neighbors(great_storer.find_lowest_goal_function().get_last_node()))"
      ],
      "metadata": {
        "colab": {
          "base_uri": "https://localhost:8080/"
        },
        "id": "lw6nd9xdNsOa",
        "outputId": "0ae64a25-f2a1-403b-f3f5-272797c8f6d0"
      },
      "execution_count": 189,
      "outputs": [
        {
          "output_type": "execute_result",
          "data": {
            "text/plain": [
              "[7, 2]"
            ]
          },
          "metadata": {},
          "execution_count": 189
        }
      ]
    },
    {
      "cell_type": "markdown",
      "source": [
        "Jak zadziała to:\n",
        "\n",
        "\n",
        "***1) przeglądamy zbiór rozwiązań i wybieramy to z najmniejszą wartością funkcji celu, ***\n",
        "\n",
        "**2) wywołujemy stworzoną funkcję dla wszystkich sąsiadów ostatniego węzła tego rozwiązania,**\n",
        "\n",
        "3) usuwamy starą ścieżkę, \n",
        "\n",
        "4) sprawdzamy czy któres rozwiązanie spełnia kryteria stopu: zebrano paliwo, ścieżka kończy się w punkcie startowym\n"
      ],
      "metadata": {
        "id": "D3oNFNVEdMXh"
      }
    },
    {
      "cell_type": "code",
      "source": [
        "from operator import attrgetter"
      ],
      "metadata": {
        "id": "CfMjBIwZkx6k"
      },
      "execution_count": null,
      "outputs": []
    },
    {
      "cell_type": "markdown",
      "source": [
        "najwygodniej będzie, argumenty G, node z którego zacząć, z którego musimy zacząć "
      ],
      "metadata": {
        "id": "BMS_zpyJIpnQ"
      }
    },
    {
      "cell_type": "code",
      "source": [
        "great_storer.get_current_roads()"
      ],
      "metadata": {
        "colab": {
          "base_uri": "https://localhost:8080/"
        },
        "id": "iF033SgfQSDY",
        "outputId": "24864774-eff1-4244-b088-07bbef417e08"
      },
      "execution_count": null,
      "outputs": [
        {
          "output_type": "execute_result",
          "data": {
            "text/plain": [
              "[<__main__.Path at 0x7f2956760050>, <__main__.Path at 0x7f29566e6650>]"
            ]
          },
          "metadata": {},
          "execution_count": 158
        }
      ]
    },
    {
      "cell_type": "code",
      "source": [
        "def calc_goal(G ,start, end, act_goal):\n",
        "\n",
        "    new_goal = act_goal - G.nodes[end]['spice'] + 2*G[start][end]['weight']\n",
        "    return new_goal"
      ],
      "metadata": {
        "id": "VPns9usNcD_C"
      },
      "execution_count": null,
      "outputs": []
    },
    {
      "cell_type": "code",
      "source": [
        "def A_star(G, start, status):\n",
        "\n",
        "    # G.nodes[start]['goal_function'] = 60\n",
        "    \n",
        "    #wszyscy sądziedzi\n",
        "    to_visit = list(G.neighbors(start))\n",
        "    visited = []\n",
        "    paths = [[[0],[status]]]  * len(to_visit) \n",
        "    \n",
        "    #visited.append(start)\n",
        "    curr_node = start\n",
        "    \n",
        "\n",
        "\n",
        "    #obliaczmy funkcję celu dla każdego z nich, dodajemy obecną \n",
        "    for i in G.neighbors(curr_node):\n",
        "      G.nodes[i]['calc_goal']  = calc_goal(G, curr_node, i, status)\n",
        "      \n",
        "\n",
        "\n",
        "    while(to_visit != []):\n",
        "      print(visited,to_visit)\n",
        "      \n",
        "      min = float('inf')\n",
        "      node_min = float('inf')\n",
        "      \n",
        "      #znajdujemy najmniejszą\n",
        "      for i in to_visit:\n",
        "          if( G.nodes[i]['calc_goal'] < min ):\n",
        "              \n",
        "              min = G.nodes[i]['calc_goal']\n",
        "              node_min = i\n",
        "\n",
        "    #     #idziemy do niej, dodajemy że do odwiedzonej usuwamy z do odwiedzenia\n",
        "      curr_node = node_min\n",
        "      to_visit.remove(curr_node)\n",
        "      visited.append(curr_node)\n",
        "      \n",
        "      #sprawdzamy znowu dla wszystkich sąsiadów, jeśli nie jest to dodajemy do odwiedzenia, jeśli jeszcze w niej nie byliśmy to liczmy\n",
        "      for i in list(G.neighbors(curr_node)):\n",
        "            if(i not in visited and i not in to_visit):\n",
        "                to_visit.append(i)\n",
        "            if(i not in visited):\n",
        "              G.nodes[i]['calc_goal']  = calc_goal(G, curr_node, i, G.nodes[curr_node]['calc_goal'])\n",
        "            \n",
        "              if( G.nodes[i]['calc_goal'] < min ):\n",
        "                  min = G.nodes[i]['calc_goal']\n",
        "                  node_min = i\n",
        "\n",
        "                  G.nodes[i]['prev_node'] = curr_node\n",
        "                  print( G.nodes[i]['calc_goal'])\n",
        "        \n",
        "              \n",
        "\n",
        "\n",
        "\n",
        "\n",
        "                  # prev_goal_function = G.nodes[curr_node]['goal_function']\n",
        "                  # goal_function = prev_goal_function + heuristic(G, curr_node, i)\n",
        "                  # if( goal_function < min):\n",
        "                  #     min = G.nodes[curr_node]['goal_function'] + heuristic(G, curr_node, i)\n",
        "                      #G.nodes[i]['prev_node'] = curr_node\n",
        "                  #     G.nodes[i]['goal_function']  = 50\n",
        "                      \n",
        "\n",
        "               "
      ],
      "metadata": {
        "id": "4WRT59areSgC"
      },
      "execution_count": null,
      "outputs": []
    },
    {
      "cell_type": "code",
      "source": [
        "def get_path(G, start,end):\n",
        "    temp = end\n",
        "    path = []\n",
        "    while( G.nodes[temp]['prev_node'] != \"\"):\n",
        "        path.insert(0, temp)\n",
        "        temp = G.nodes[temp]['prev_node']\n",
        "    path.insert(0, temp)\n",
        "    path.insert(0, start)\n",
        "    print(path)"
      ],
      "metadata": {
        "id": "2_Vwe0V_FNFt"
      },
      "execution_count": null,
      "outputs": []
    },
    {
      "cell_type": "code",
      "source": [
        " G.nodes[2]['prev_node']"
      ],
      "metadata": {
        "id": "GjjewC5OFRBR"
      },
      "execution_count": null,
      "outputs": []
    },
    {
      "cell_type": "code",
      "source": [
        "A_star(G, 0, 60)"
      ],
      "metadata": {
        "colab": {
          "base_uri": "https://localhost:8080/"
        },
        "id": "egtrFJGCW1dM",
        "outputId": "84f0e8e7-6f03-4e2e-eaf8-2a0dbdf0b1ca"
      },
      "execution_count": null,
      "outputs": [
        {
          "output_type": "stream",
          "name": "stdout",
          "text": [
            "[] [5, 2]\n",
            "55\n",
            "[2] [5, 1, 0, 4]\n",
            "[2, 1] [5, 0, 4]\n",
            "[2, 1, 0] [5, 4]\n",
            "59\n",
            "[2, 1, 0, 5] [4, 3, 6]\n",
            "57\n",
            "[2, 1, 0, 5, 3] [4, 6, 8]\n",
            "[2, 1, 0, 5, 3, 8] [4, 6, 7]\n",
            "61\n",
            "[2, 1, 0, 5, 3, 8, 6] [4, 7]\n",
            "59\n",
            "[2, 1, 0, 5, 3, 8, 6, 7] [4]\n"
          ]
        }
      ]
    },
    {
      "cell_type": "markdown",
      "source": [
        ""
      ],
      "metadata": {
        "id": "o2M8N0YpDwrS"
      }
    },
    {
      "cell_type": "code",
      "source": [
        "for path in nx.all_simple_paths(G, source=0, target=1):\n",
        "       print(path)"
      ],
      "metadata": {
        "id": "EjvP5X-OfLEK"
      },
      "execution_count": null,
      "outputs": []
    },
    {
      "cell_type": "code",
      "source": [
        "def get_path(G, start):\n",
        "    temp = start\n",
        "    path = []\n",
        "    while( G.nodes[temp]['prev_node'] != \"\"):\n",
        "        path.insert(0, temp)\n",
        "        temp = G.nodes[temp]['prev_node']\n",
        "    path.insert(0, temp)\n",
        "    path.insert(0, start)\n",
        "    print(path)"
      ],
      "metadata": {
        "id": "Yd-DzpoGK-yp"
      },
      "execution_count": null,
      "outputs": []
    },
    {
      "cell_type": "code",
      "execution_count": null,
      "metadata": {
        "id": "_YflVIPV5l1x"
      },
      "outputs": [],
      "source": [
        ""
      ]
    },
    {
      "cell_type": "code",
      "source": [
        ""
      ],
      "metadata": {
        "id": "ph2cIF6lhj8T"
      },
      "execution_count": null,
      "outputs": []
    },
    {
      "cell_type": "markdown",
      "source": [
        "BRUDNOPIS\n",
        "\n",
        "def heuristic(G, start, end,status):\n",
        "  \n",
        "    lost = G[start][end]['weight']\n",
        "    gain = G.nodes[end]['spice']\n",
        "    status = status - gain + lost\n",
        "    return status\n",
        "\n",
        "    def goal_function(G, start, end,status):\n",
        "  return heuristic(G, start, end,status) + G[start][end]['weight']\n",
        "\n",
        "\n",
        "  from io import DEFAULT_BUFFER_SIZE\n",
        "import networkx as nx\n",
        "import pandas as pd\n",
        "import matplotlib.pyplot as plt\n",
        "import pandas as pd\n",
        "\n",
        "\n",
        "k = nx.Graph()\n",
        "k.add_node(1, pos = (2,2))\n",
        "k.add_node(2, pos = (1,4))\n",
        "k.add_node(3, pos = (-1,4))\n",
        "k.add_node(4, pos = (5,4))\n",
        "k.add_node(5, pos = (10,5))\n",
        "k.add_node(6, pos = (8,6))\n",
        "k.add_node(7, pos = (9,7))\n",
        "k.add_node(20, pos = (10,17))\n",
        "\n",
        "\n",
        "k.add_weighted_edges_from([(1, 3,  5),(2, 1,  10),(4, 6,  3),(5, 1,  11),(3, 1,  5),(2, 4,  1),(2, 3,  3),(6, 1,  6),(6, 7,  3),(5, 7,  8),(20, 7,  8)])\n",
        "\n",
        "pos = nx.get_node_attributes(k, \"pos\")\n",
        "labels = nx.get_edge_attributes(k,\"weight\")\n",
        "\n",
        "nx.draw_networkx_edge_labels(k,pos,edge_labels=labels)\n",
        "nx.draw(k,pos, with_labels=True)\n",
        "plt.show()"
      ],
      "metadata": {
        "id": "cKlCpXMqDjAD"
      }
    },
    {
      "cell_type": "markdown",
      "source": [
        "MRÓWKOWY ROZKMINY\n",
        "Kryterium stopu - zebrany deuter + od x iteracji nie znaleziono lepszej drogi"
      ],
      "metadata": {
        "id": "AGiUnraNh4Z8"
      }
    }
  ]
}